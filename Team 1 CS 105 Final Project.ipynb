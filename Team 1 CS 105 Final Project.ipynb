{
 "cells": [
  {
   "cell_type": "markdown",
   "metadata": {
    "colab_type": "text",
    "id": "__1JBcfGnOHj"
   },
   "source": [
    "# Team 1 CS 105 Final Project"
   ]
  },
  {
   "cell_type": "markdown",
   "metadata": {},
   "source": [
    "Our project works with....Our dataset is...\n",
    "\n",
    "In total, the downloaded dataset has 50,000 reviews split between 25,000 train and test sets. There is also an even split of positive and negative reviews (25,000 total for each) among the train and test sets. A negative label correspondes to an Imdb raiting of 1-4 and a positive label corresponds to an Imdb rating of 7-10. For our project, we plan to build our classifier using a smaller subset of 5,000 total reviews. We decided that a stratified sample between positive and negative reviews would give us the most balanced labeled set to work with. Since we aim to work with 5,000 reviews total, we will split our sample into 2,500 positive and negative reviews, which we will pull from the train set."
   ]
  },
  {
   "cell_type": "code",
   "execution_count": 6,
   "metadata": {
    "colab": {},
    "colab_type": "code",
    "id": "vX2M_vUAnOHr",
    "outputId": "9e1819ee-c8d0-441c-f9cc-5e1bc8558716"
   },
   "outputs": [],
   "source": [
    "import os\n",
    "import shutil\n",
    "import numpy as np\n",
    "\n",
    "# Code to select 2500 negative reviews from train set\n",
    "sub_dir_neg = 'E:/CS105-Final-Project/aclImdb/train/neg'\n",
    "files_neg = os.listdir(sub_dir_neg)\n",
    "\n",
    "random_2500_neg = np.random.choice(files_neg, 2500, replace=False)\n",
    "\n",
    "for x in random_2500_neg:\n",
    "    shutil.copy(os.path.join(sub_dir_neg, x),'E:/CS105-Final-Project/Project Datasets/neg')"
   ]
  },
  {
   "cell_type": "code",
   "execution_count": null,
   "metadata": {},
   "outputs": [],
   "source": [
    "# Code to select 2500 positive reviews from train set\n",
    "sub_dir_pos = 'E:/CS105-Final-Project/aclImdb/train/pos'\n",
    "files_pos = os.listdir(sub_dir_pos)\n",
    "\n",
    "random_2500_pos = np.random.choice(files_pos, 2500, replace=False)\n",
    "\n",
    "for x in random_2500_pos:\n",
    "    shutil.copy(os.path.join(sub_dir_pos, x),'E:/CS105-Final-Project/Project Datasets/pos')"
   ]
  },
  {
   "cell_type": "code",
   "execution_count": null,
   "metadata": {},
   "outputs": [],
   "source": []
  }
 ],
 "metadata": {
  "colab": {
   "collapsed_sections": [],
   "name": "1A. Distribution of First Digits.ipynb",
   "provenance": []
  },
  "kernelspec": {
   "display_name": "Python 3 (ipykernel)",
   "language": "python",
   "name": "python3"
  },
  "language_info": {
   "codemirror_mode": {
    "name": "ipython",
    "version": 3
   },
   "file_extension": ".py",
   "mimetype": "text/x-python",
   "name": "python",
   "nbconvert_exporter": "python",
   "pygments_lexer": "ipython3",
   "version": "3.9.7"
  }
 },
 "nbformat": 4,
 "nbformat_minor": 4
}
